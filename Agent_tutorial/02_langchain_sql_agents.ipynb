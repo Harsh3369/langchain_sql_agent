{
 "cells": [
  {
   "cell_type": "markdown",
   "metadata": {},
   "source": [
    "### Import dependencies"
   ]
  },
  {
   "cell_type": "code",
   "execution_count": 1,
   "metadata": {},
   "outputs": [],
   "source": [
    "from langchain.utilities import SQLDatabase\n",
    "from langchain.llms import OpenAI\n",
    "from langchain.agents.agent_types import AgentType\n",
    "from langchain.agents.agent_toolkits import SQLDatabaseToolkit \n",
    "from langchain.utilities import SQLDatabase\n",
    "from langchain.llms import OpenAI\n",
    "from langchain.agents import create_sql_agent \n",
    "import os"
   ]
  },
  {
   "cell_type": "code",
   "execution_count": 2,
   "metadata": {},
   "outputs": [],
   "source": [
    "# define the database we want to use for our test\n",
    "db = SQLDatabase.from_uri('sqlite:///sql_lite_database.db')"
   ]
  },
  {
   "cell_type": "code",
   "execution_count": 12,
   "metadata": {},
   "outputs": [],
   "source": [
    "from langchain_openai import ChatOpenAI\n",
    "from dotenv import load_dotenv\n",
    "\n",
    "# Load environment variables from .env file\n",
    "load_dotenv()\n",
    "# Fetch the OpenAI API key from environment variables\n",
    "api_key = os.getenv(\"OPENAI_API_KEY\")\n",
    "\n",
    "if api_key is None:\n",
    "    raise ValueError(\"API key is missing. Please set OPENAI_API_KEY in the .env file.\")\n",
    "\n",
    "# Set your OpenAI API key\n",
    "os.environ[\"OPENAI_API_KEY\"] = api_key\n",
    "\n",
    "# Initialize the ChatOpenAI model with desired parameters\n",
    "llm = ChatOpenAI(model=\"gpt-4o-mini\", temperature=0)"
   ]
  },
  {
   "cell_type": "code",
   "execution_count": 7,
   "metadata": {},
   "outputs": [],
   "source": [
    "# setup agent\n",
    "toolkit = SQLDatabaseToolkit(db=db, llm=llm)\n",
    "agent_executor = create_sql_agent(\n",
    "    llm=llm,\n",
    "    toolkit=toolkit,\n",
    "    verbose=True,\n",
    "    agent_type=AgentType.ZERO_SHOT_REACT_DESCRIPTION,\n",
    ")"
   ]
  },
  {
   "cell_type": "code",
   "execution_count": 9,
   "metadata": {},
   "outputs": [
    {
     "name": "stdout",
     "output_type": "stream",
     "text": [
      "\n",
      "\n",
      "\u001b[1m> Entering new SQL Agent Executor chain...\u001b[0m\n",
      "\u001b[32;1m\u001b[1;3mAction: sql_db_list_tables  \n",
      "Action Input: \"\"  \u001b[0m\u001b[38;5;200m\u001b[1;3mAGENTS, CUSTOMER, ORDERS\u001b[0m\u001b[32;1m\u001b[1;3mThe relevant table for customer information is the CUSTOMER table. I will check the schema of the CUSTOMER table to see the relevant columns for counting the customers.  \n",
      "Action: sql_db_schema  \n",
      "Action Input: \"CUSTOMER\"  \u001b[0m\u001b[33;1m\u001b[1;3m\n",
      "CREATE TABLE \"CUSTOMER\" (\n",
      "\t\"CUST_CODE\" TEXT(6) NOT NULL, \n",
      "\t\"CUST_NAME\" TEXT(40) NOT NULL, \n",
      "\t\"CUST_CITY\" CHAR(35), \n",
      "\t\"WORKING_AREA\" TEXT(35) NOT NULL, \n",
      "\t\"CUST_COUNTRY\" TEXT(20) NOT NULL, \n",
      "\t\"GRADE\" NUMERIC, \n",
      "\t\"OPENING_AMT\" NUMERIC(12, 2) NOT NULL, \n",
      "\t\"RECEIVE_AMT\" NUMERIC(12, 2) NOT NULL, \n",
      "\t\"PAYMENT_AMT\" NUMERIC(12, 2) NOT NULL, \n",
      "\t\"OUTSTANDING_AMT\" NUMERIC(12, 2) NOT NULL, \n",
      "\t\"PHONE_NO\" TEXT(17) NOT NULL, \n",
      "\t\"AGENT_CODE\" CHAR(6) NOT NULL, \n",
      "\tPRIMARY KEY (\"CUST_CODE\"), \n",
      "\tFOREIGN KEY(\"AGENT_CODE\") REFERENCES \"AGENTS\" (\"AGENT_CODE\")\n",
      ")\n",
      "\n",
      "/*\n",
      "3 rows from CUSTOMER table:\n",
      "CUST_CODE\tCUST_NAME\tCUST_CITY\tWORKING_AREA\tCUST_COUNTRY\tGRADE\tOPENING_AMT\tRECEIVE_AMT\tPAYMENT_AMT\tOUTSTANDING_AMT\tPHONE_NO\tAGENT_CODE\n",
      "C00013\tHolmes\tLondon\tLondon\tUK\t2.0000000000\t6000.00\t5000.00\t7000.00\t4000.00\tBBBBBBB\tA003\n",
      "C00001\tMicheal\tNew York\tNew York\tUSA\t2.0000000000\t3000.00\t5000.00\t2000.00\t6000.00\tCCCCCCC\tA008\n",
      "C00020\tAlbert\tNew York\tNew York\tUSA\t3.0000000000\t5000.00\t7000.00\t6000.00\t6000.00\tBBBBSBB\tA008\n",
      "*/\u001b[0m\u001b[32;1m\u001b[1;3mTo count the number of customers, I can use the `CUST_CODE` column from the `CUSTOMER` table, as it is the primary key and will give me the total number of unique customers. I will write a query to count the distinct `CUST_CODE` values.\n",
      "\n",
      "Action: sql_db_query_checker  \n",
      "Action Input: \"SELECT COUNT(DISTINCT CUST_CODE) AS total_customers FROM CUSTOMER;\"  \u001b[0m\u001b[36;1m\u001b[1;3m```sql\n",
      "SELECT COUNT(DISTINCT CUST_CODE) AS total_customers FROM CUSTOMER;\n",
      "```\u001b[0m\u001b[32;1m\u001b[1;3mThe query is correct. Now I will execute it to get the total number of customers.\n",
      "\n",
      "Action: sql_db_query  \n",
      "Action Input: \"SELECT COUNT(DISTINCT CUST_CODE) AS total_customers FROM CUSTOMER;\"  \u001b[0m\u001b[36;1m\u001b[1;3m[(25,)]\u001b[0m\u001b[32;1m\u001b[1;3mI now know the final answer.  \n",
      "Final Answer: There are 25 customers in the database.\u001b[0m\n",
      "\n",
      "\u001b[1m> Finished chain.\u001b[0m\n"
     ]
    },
    {
     "data": {
      "text/plain": [
       "{'input': 'How many customers do we have in our database?',\n",
       " 'output': 'There are 25 customers in the database.'}"
      ]
     },
     "execution_count": 9,
     "metadata": {},
     "output_type": "execute_result"
    }
   ],
   "source": [
    "# define the user's question\n",
    "question = \"How many customers do we have in our database?\"\n",
    "agent_executor.invoke(question)"
   ]
  },
  {
   "cell_type": "code",
   "execution_count": 10,
   "metadata": {},
   "outputs": [
    {
     "name": "stdout",
     "output_type": "stream",
     "text": [
      "\n",
      "\n",
      "\u001b[1m> Entering new SQL Agent Executor chain...\u001b[0m\n",
      "\u001b[32;1m\u001b[1;3mAction: sql_db_list_tables  \n",
      "Action Input: \"\"  \u001b[0m\u001b[38;5;200m\u001b[1;3mAGENTS, CUSTOMER, ORDERS\u001b[0m\u001b[32;1m\u001b[1;3mI see that there is a table named \"CUSTOMER\" which likely contains information about customers. I will check the schema of the CUSTOMER table to find the relevant columns for my query.  \n",
      "Action: sql_db_schema  \n",
      "Action Input: \"CUSTOMER\"  \u001b[0m\u001b[33;1m\u001b[1;3m\n",
      "CREATE TABLE \"CUSTOMER\" (\n",
      "\t\"CUST_CODE\" TEXT(6) NOT NULL, \n",
      "\t\"CUST_NAME\" TEXT(40) NOT NULL, \n",
      "\t\"CUST_CITY\" CHAR(35), \n",
      "\t\"WORKING_AREA\" TEXT(35) NOT NULL, \n",
      "\t\"CUST_COUNTRY\" TEXT(20) NOT NULL, \n",
      "\t\"GRADE\" NUMERIC, \n",
      "\t\"OPENING_AMT\" NUMERIC(12, 2) NOT NULL, \n",
      "\t\"RECEIVE_AMT\" NUMERIC(12, 2) NOT NULL, \n",
      "\t\"PAYMENT_AMT\" NUMERIC(12, 2) NOT NULL, \n",
      "\t\"OUTSTANDING_AMT\" NUMERIC(12, 2) NOT NULL, \n",
      "\t\"PHONE_NO\" TEXT(17) NOT NULL, \n",
      "\t\"AGENT_CODE\" CHAR(6) NOT NULL, \n",
      "\tPRIMARY KEY (\"CUST_CODE\"), \n",
      "\tFOREIGN KEY(\"AGENT_CODE\") REFERENCES \"AGENTS\" (\"AGENT_CODE\")\n",
      ")\n",
      "\n",
      "/*\n",
      "3 rows from CUSTOMER table:\n",
      "CUST_CODE\tCUST_NAME\tCUST_CITY\tWORKING_AREA\tCUST_COUNTRY\tGRADE\tOPENING_AMT\tRECEIVE_AMT\tPAYMENT_AMT\tOUTSTANDING_AMT\tPHONE_NO\tAGENT_CODE\n",
      "C00013\tHolmes\tLondon\tLondon\tUK\t2.0000000000\t6000.00\t5000.00\t7000.00\t4000.00\tBBBBBBB\tA003\n",
      "C00001\tMicheal\tNew York\tNew York\tUSA\t2.0000000000\t3000.00\t5000.00\t2000.00\t6000.00\tCCCCCCC\tA008\n",
      "C00020\tAlbert\tNew York\tNew York\tUSA\t3.0000000000\t5000.00\t7000.00\t6000.00\t6000.00\tBBBBSBB\tA008\n",
      "*/\u001b[0m\u001b[32;1m\u001b[1;3mThe CUSTOMER table contains a column named \"CUST_COUNTRY\" which I can use to filter for customers from the US. I will construct a query to select the relevant columns for customers from the US and limit the results to 10.  \n",
      "Action: sql_db_query_checker  \n",
      "Action Input: \"SELECT CUST_CODE, CUST_NAME, CUST_CITY, WORKING_AREA FROM CUSTOMER WHERE CUST_COUNTRY = 'USA' LIMIT 10\"  \u001b[0m\u001b[36;1m\u001b[1;3m```sql\n",
      "SELECT CUST_CODE, CUST_NAME, CUST_CITY, WORKING_AREA FROM CUSTOMER WHERE CUST_COUNTRY = 'USA' LIMIT 10\n",
      "```\u001b[0m\u001b[32;1m\u001b[1;3mThe query is syntactically correct. I will now execute it to retrieve the customers from the US.  \n",
      "Action: sql_db_query  \n",
      "Action Input: \"SELECT CUST_CODE, CUST_NAME, CUST_CITY, WORKING_AREA FROM CUSTOMER WHERE CUST_COUNTRY = 'USA' LIMIT 10\"  \u001b[0m\u001b[36;1m\u001b[1;3m[('C00001', 'Micheal', 'New York', 'New York'), ('C00020', 'Albert', 'New York', 'New York'), ('C00002', 'Bolt', 'New York', 'New York'), ('C00012', 'Steven', 'San Jose', 'San Jose')]\u001b[0m\u001b[32;1m\u001b[1;3mI now know the final answer.  \n",
      "Final Answer: The customers from the US are:  \n",
      "1. CUST_CODE: C00001, CUST_NAME: Micheal, CUST_CITY: New York, WORKING_AREA: New York  \n",
      "2. CUST_CODE: C00020, CUST_NAME: Albert, CUST_CITY: New York, WORKING_AREA: New York  \n",
      "3. CUST_CODE: C00002, CUST_NAME: Bolt, CUST_CITY: New York, WORKING_AREA: New York  \n",
      "4. CUST_CODE: C00012, CUST_NAME: Steven, CUST_CITY: San Jose, WORKING_AREA: San Jose  \u001b[0m\n",
      "\n",
      "\u001b[1m> Finished chain.\u001b[0m\n"
     ]
    },
    {
     "data": {
      "text/plain": [
       "{'input': 'List all customers from the US',\n",
       " 'output': 'The customers from the US are:  \\n1. CUST_CODE: C00001, CUST_NAME: Micheal, CUST_CITY: New York, WORKING_AREA: New York  \\n2. CUST_CODE: C00020, CUST_NAME: Albert, CUST_CITY: New York, WORKING_AREA: New York  \\n3. CUST_CODE: C00002, CUST_NAME: Bolt, CUST_CITY: New York, WORKING_AREA: New York  \\n4. CUST_CODE: C00012, CUST_NAME: Steven, CUST_CITY: San Jose, WORKING_AREA: San Jose'}"
      ]
     },
     "execution_count": 10,
     "metadata": {},
     "output_type": "execute_result"
    }
   ],
   "source": [
    "# define the user's question\n",
    "question = \"List all customers from the US\"\n",
    "agent_executor.invoke(question)"
   ]
  },
  {
   "cell_type": "code",
   "execution_count": 11,
   "metadata": {},
   "outputs": [
    {
     "name": "stdout",
     "output_type": "stream",
     "text": [
      "\n",
      "\n",
      "\u001b[1m> Entering new SQL Agent Executor chain...\u001b[0m\n",
      "\u001b[32;1m\u001b[1;3mAction: sql_db_list_tables  \n",
      "Action Input: \"\"  \u001b[0m\u001b[38;5;200m\u001b[1;3mAGENTS, CUSTOMER, ORDERS\u001b[0m\u001b[32;1m\u001b[1;3mI need to check the schema of the CUSTOMER table to find the relevant columns for the customer's phone number.  \n",
      "Action: sql_db_schema  \n",
      "Action Input: \"CUSTOMER\"  \u001b[0m\u001b[33;1m\u001b[1;3m\n",
      "CREATE TABLE \"CUSTOMER\" (\n",
      "\t\"CUST_CODE\" TEXT(6) NOT NULL, \n",
      "\t\"CUST_NAME\" TEXT(40) NOT NULL, \n",
      "\t\"CUST_CITY\" CHAR(35), \n",
      "\t\"WORKING_AREA\" TEXT(35) NOT NULL, \n",
      "\t\"CUST_COUNTRY\" TEXT(20) NOT NULL, \n",
      "\t\"GRADE\" NUMERIC, \n",
      "\t\"OPENING_AMT\" NUMERIC(12, 2) NOT NULL, \n",
      "\t\"RECEIVE_AMT\" NUMERIC(12, 2) NOT NULL, \n",
      "\t\"PAYMENT_AMT\" NUMERIC(12, 2) NOT NULL, \n",
      "\t\"OUTSTANDING_AMT\" NUMERIC(12, 2) NOT NULL, \n",
      "\t\"PHONE_NO\" TEXT(17) NOT NULL, \n",
      "\t\"AGENT_CODE\" CHAR(6) NOT NULL, \n",
      "\tPRIMARY KEY (\"CUST_CODE\"), \n",
      "\tFOREIGN KEY(\"AGENT_CODE\") REFERENCES \"AGENTS\" (\"AGENT_CODE\")\n",
      ")\n",
      "\n",
      "/*\n",
      "3 rows from CUSTOMER table:\n",
      "CUST_CODE\tCUST_NAME\tCUST_CITY\tWORKING_AREA\tCUST_COUNTRY\tGRADE\tOPENING_AMT\tRECEIVE_AMT\tPAYMENT_AMT\tOUTSTANDING_AMT\tPHONE_NO\tAGENT_CODE\n",
      "C00013\tHolmes\tLondon\tLondon\tUK\t2.0000000000\t6000.00\t5000.00\t7000.00\t4000.00\tBBBBBBB\tA003\n",
      "C00001\tMicheal\tNew York\tNew York\tUSA\t2.0000000000\t3000.00\t5000.00\t2000.00\t6000.00\tCCCCCCC\tA008\n",
      "C00020\tAlbert\tNew York\tNew York\tUSA\t3.0000000000\t5000.00\t7000.00\t6000.00\t6000.00\tBBBBSBB\tA008\n",
      "*/\u001b[0m\u001b[32;1m\u001b[1;3mI have the schema for the CUSTOMER table, and I can see that it contains a column for the phone number (PHONE_NO). Now, I will query the CUSTOMER table to find the phone number for the customer named Albert.\n",
      "\n",
      "Action: sql_db_query_checker  \n",
      "Action Input: \"SELECT PHONE_NO FROM CUSTOMER WHERE CUST_NAME = 'Albert' LIMIT 10;\"  \u001b[0m\u001b[36;1m\u001b[1;3m```sql\n",
      "SELECT PHONE_NO FROM CUSTOMER WHERE CUST_NAME = 'Albert' LIMIT 10;\n",
      "```\u001b[0m\u001b[32;1m\u001b[1;3mThe query is correct. Now I will execute it to find Albert's phone number.\n",
      "\n",
      "Action: sql_db_query  \n",
      "Action Input: \"SELECT PHONE_NO FROM CUSTOMER WHERE CUST_NAME = 'Albert' LIMIT 10;\"  \u001b[0m\u001b[36;1m\u001b[1;3m[('BBBBSBB',)]\u001b[0m\u001b[32;1m\u001b[1;3mI now know the final answer\n",
      "Final Answer: The phone number of the customer Albert is BBBBSBB.\u001b[0m\n",
      "\n",
      "\u001b[1m> Finished chain.\u001b[0m\n"
     ]
    },
    {
     "data": {
      "text/plain": [
       "{'input': 'What is the phone number of the customer Albert?',\n",
       " 'output': 'The phone number of the customer Albert is BBBBSBB.'}"
      ]
     },
     "execution_count": 11,
     "metadata": {},
     "output_type": "execute_result"
    }
   ],
   "source": [
    "# define the user's question\n",
    "question = \"What is the phone number of the customer Albert?\"\n",
    "agent_executor.invoke(question)\n"
   ]
  }
 ],
 "metadata": {
  "kernelspec": {
   "display_name": "agent_env",
   "language": "python",
   "name": "python3"
  },
  "language_info": {
   "codemirror_mode": {
    "name": "ipython",
    "version": 3
   },
   "file_extension": ".py",
   "mimetype": "text/x-python",
   "name": "python",
   "nbconvert_exporter": "python",
   "pygments_lexer": "ipython3",
   "version": "3.10.15"
  }
 },
 "nbformat": 4,
 "nbformat_minor": 2
}
